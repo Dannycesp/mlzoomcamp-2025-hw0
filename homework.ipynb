{
 "cells": [
  {
   "cell_type": "markdown",
   "id": "0ebc9ed6",
   "metadata": {},
   "source": [
    "# Module 1 Homework Calculations"
   ]
  },
  {
   "cell_type": "markdown",
   "id": "220281e2",
   "metadata": {},
   "source": [
    "This notebook keeps the intermediate calculations for the homework answers."
   ]
  },
  {
   "cell_type": "markdown",
   "id": "1214d2df",
   "metadata": {},
   "source": [
    "## Setup"
   ]
  },
  {
   "cell_type": "code",
   "execution_count": 2,
   "id": "4bd7ebf8",
   "metadata": {
    "execution": {
     "iopub.execute_input": "2025-10-01T22:31:27.935023Z",
     "iopub.status.busy": "2025-10-01T22:31:27.934706Z",
     "iopub.status.idle": "2025-10-01T22:31:28.429376Z",
     "shell.execute_reply": "2025-10-01T22:31:28.428804Z"
    }
   },
   "outputs": [],
   "source": [
    "import pandas as pd\n",
    "import numpy as np"
   ]
  },
  {
   "cell_type": "markdown",
   "id": "e8135476",
   "metadata": {},
   "source": [
    "## Q1. Pandas version"
   ]
  },
  {
   "cell_type": "code",
   "execution_count": 3,
   "id": "145f6215",
   "metadata": {
    "execution": {
     "iopub.execute_input": "2025-10-01T22:31:28.431383Z",
     "iopub.status.busy": "2025-10-01T22:31:28.431219Z",
     "iopub.status.idle": "2025-10-01T22:31:28.435436Z",
     "shell.execute_reply": "2025-10-01T22:31:28.435008Z"
    }
   },
   "outputs": [
    {
     "data": {
      "text/plain": [
       "'2.2.2'"
      ]
     },
     "execution_count": 3,
     "metadata": {},
     "output_type": "execute_result"
    }
   ],
   "source": [
    "pd.__version__"
   ]
  },
  {
   "cell_type": "markdown",
   "id": "32154444",
   "metadata": {},
   "source": [
    "## Load dataset"
   ]
  },
  {
   "cell_type": "code",
   "execution_count": 4,
   "id": "deaed265",
   "metadata": {
    "execution": {
     "iopub.execute_input": "2025-10-01T22:31:28.437075Z",
     "iopub.status.busy": "2025-10-01T22:31:28.436967Z",
     "iopub.status.idle": "2025-10-01T22:31:28.455142Z",
     "shell.execute_reply": "2025-10-01T22:31:28.454740Z"
    }
   },
   "outputs": [
    {
     "data": {
      "text/html": [
       "<div>\n",
       "<style scoped>\n",
       "    .dataframe tbody tr th:only-of-type {\n",
       "        vertical-align: middle;\n",
       "    }\n",
       "\n",
       "    .dataframe tbody tr th {\n",
       "        vertical-align: top;\n",
       "    }\n",
       "\n",
       "    .dataframe thead th {\n",
       "        text-align: right;\n",
       "    }\n",
       "</style>\n",
       "<table border=\"1\" class=\"dataframe\">\n",
       "  <thead>\n",
       "    <tr style=\"text-align: right;\">\n",
       "      <th></th>\n",
       "      <th>engine_displacement</th>\n",
       "      <th>num_cylinders</th>\n",
       "      <th>horsepower</th>\n",
       "      <th>vehicle_weight</th>\n",
       "      <th>acceleration</th>\n",
       "      <th>model_year</th>\n",
       "      <th>origin</th>\n",
       "      <th>fuel_type</th>\n",
       "      <th>drivetrain</th>\n",
       "      <th>num_doors</th>\n",
       "      <th>fuel_efficiency_mpg</th>\n",
       "    </tr>\n",
       "  </thead>\n",
       "  <tbody>\n",
       "    <tr>\n",
       "      <th>0</th>\n",
       "      <td>170</td>\n",
       "      <td>3.0</td>\n",
       "      <td>159.0</td>\n",
       "      <td>3413.433759</td>\n",
       "      <td>17.7</td>\n",
       "      <td>2003</td>\n",
       "      <td>Europe</td>\n",
       "      <td>Gasoline</td>\n",
       "      <td>All-wheel drive</td>\n",
       "      <td>0.0</td>\n",
       "      <td>13.231729</td>\n",
       "    </tr>\n",
       "    <tr>\n",
       "      <th>1</th>\n",
       "      <td>130</td>\n",
       "      <td>5.0</td>\n",
       "      <td>97.0</td>\n",
       "      <td>3149.664934</td>\n",
       "      <td>17.8</td>\n",
       "      <td>2007</td>\n",
       "      <td>USA</td>\n",
       "      <td>Gasoline</td>\n",
       "      <td>Front-wheel drive</td>\n",
       "      <td>0.0</td>\n",
       "      <td>13.688217</td>\n",
       "    </tr>\n",
       "    <tr>\n",
       "      <th>2</th>\n",
       "      <td>170</td>\n",
       "      <td>NaN</td>\n",
       "      <td>78.0</td>\n",
       "      <td>3079.038997</td>\n",
       "      <td>15.1</td>\n",
       "      <td>2018</td>\n",
       "      <td>Europe</td>\n",
       "      <td>Gasoline</td>\n",
       "      <td>Front-wheel drive</td>\n",
       "      <td>0.0</td>\n",
       "      <td>14.246341</td>\n",
       "    </tr>\n",
       "    <tr>\n",
       "      <th>3</th>\n",
       "      <td>220</td>\n",
       "      <td>4.0</td>\n",
       "      <td>NaN</td>\n",
       "      <td>2542.392402</td>\n",
       "      <td>20.2</td>\n",
       "      <td>2009</td>\n",
       "      <td>USA</td>\n",
       "      <td>Diesel</td>\n",
       "      <td>All-wheel drive</td>\n",
       "      <td>2.0</td>\n",
       "      <td>16.912736</td>\n",
       "    </tr>\n",
       "    <tr>\n",
       "      <th>4</th>\n",
       "      <td>210</td>\n",
       "      <td>1.0</td>\n",
       "      <td>140.0</td>\n",
       "      <td>3460.870990</td>\n",
       "      <td>14.4</td>\n",
       "      <td>2009</td>\n",
       "      <td>Europe</td>\n",
       "      <td>Gasoline</td>\n",
       "      <td>All-wheel drive</td>\n",
       "      <td>2.0</td>\n",
       "      <td>12.488369</td>\n",
       "    </tr>\n",
       "  </tbody>\n",
       "</table>\n",
       "</div>"
      ],
      "text/plain": [
       "   engine_displacement  num_cylinders  horsepower  vehicle_weight  \\\n",
       "0                  170            3.0       159.0     3413.433759   \n",
       "1                  130            5.0        97.0     3149.664934   \n",
       "2                  170            NaN        78.0     3079.038997   \n",
       "3                  220            4.0         NaN     2542.392402   \n",
       "4                  210            1.0       140.0     3460.870990   \n",
       "\n",
       "   acceleration  model_year  origin fuel_type         drivetrain  num_doors  \\\n",
       "0          17.7        2003  Europe  Gasoline    All-wheel drive        0.0   \n",
       "1          17.8        2007     USA  Gasoline  Front-wheel drive        0.0   \n",
       "2          15.1        2018  Europe  Gasoline  Front-wheel drive        0.0   \n",
       "3          20.2        2009     USA    Diesel    All-wheel drive        2.0   \n",
       "4          14.4        2009  Europe  Gasoline    All-wheel drive        2.0   \n",
       "\n",
       "   fuel_efficiency_mpg  \n",
       "0            13.231729  \n",
       "1            13.688217  \n",
       "2            14.246341  \n",
       "3            16.912736  \n",
       "4            12.488369  "
      ]
     },
     "execution_count": 4,
     "metadata": {},
     "output_type": "execute_result"
    }
   ],
   "source": [
    "df = pd.read_csv('car_fuel_efficiency.csv')\n",
    "df.head()"
   ]
  },
  {
   "cell_type": "markdown",
   "id": "6fddce4c",
   "metadata": {},
   "source": [
    "## Q2. Records count"
   ]
  },
  {
   "cell_type": "code",
   "execution_count": 5,
   "id": "2882f879",
   "metadata": {
    "execution": {
     "iopub.execute_input": "2025-10-01T22:31:28.456754Z",
     "iopub.status.busy": "2025-10-01T22:31:28.456604Z",
     "iopub.status.idle": "2025-10-01T22:31:28.459494Z",
     "shell.execute_reply": "2025-10-01T22:31:28.459163Z"
    }
   },
   "outputs": [
    {
     "data": {
      "text/plain": [
       "9704"
      ]
     },
     "execution_count": 5,
     "metadata": {},
     "output_type": "execute_result"
    }
   ],
   "source": [
    "df.shape[0]"
   ]
  },
  {
   "cell_type": "markdown",
   "id": "5723690d",
   "metadata": {},
   "source": [
    "## Q3. Fuel types"
   ]
  },
  {
   "cell_type": "code",
   "execution_count": 6,
   "id": "bed72c87",
   "metadata": {
    "execution": {
     "iopub.execute_input": "2025-10-01T22:31:28.461142Z",
     "iopub.status.busy": "2025-10-01T22:31:28.460907Z",
     "iopub.status.idle": "2025-10-01T22:31:28.464121Z",
     "shell.execute_reply": "2025-10-01T22:31:28.463874Z"
    }
   },
   "outputs": [
    {
     "data": {
      "text/plain": [
       "2"
      ]
     },
     "execution_count": 6,
     "metadata": {},
     "output_type": "execute_result"
    }
   ],
   "source": [
    "df['fuel_type'].nunique()"
   ]
  },
  {
   "cell_type": "markdown",
   "id": "cd786b22",
   "metadata": {},
   "source": [
    "## Q4. Columns with missing values"
   ]
  },
  {
   "cell_type": "code",
   "execution_count": 7,
   "id": "8d6154f7",
   "metadata": {
    "execution": {
     "iopub.execute_input": "2025-10-01T22:31:28.465428Z",
     "iopub.status.busy": "2025-10-01T22:31:28.465278Z",
     "iopub.status.idle": "2025-10-01T22:31:28.470090Z",
     "shell.execute_reply": "2025-10-01T22:31:28.469601Z"
    }
   },
   "outputs": [
    {
     "data": {
      "text/plain": [
       "np.int64(4)"
      ]
     },
     "execution_count": 7,
     "metadata": {},
     "output_type": "execute_result"
    }
   ],
   "source": [
    "df.isna().any().sum()"
   ]
  },
  {
   "cell_type": "markdown",
   "id": "b5bdd257",
   "metadata": {},
   "source": [
    "## Q5. Maximum fuel efficiency for Asia"
   ]
  },
  {
   "cell_type": "code",
   "execution_count": 8,
   "id": "59440bda",
   "metadata": {
    "execution": {
     "iopub.execute_input": "2025-10-01T22:31:28.471420Z",
     "iopub.status.busy": "2025-10-01T22:31:28.471269Z",
     "iopub.status.idle": "2025-10-01T22:31:28.476610Z",
     "shell.execute_reply": "2025-10-01T22:31:28.476091Z"
    }
   },
   "outputs": [
    {
     "data": {
      "text/plain": [
       "np.float64(23.759122836520497)"
      ]
     },
     "execution_count": 8,
     "metadata": {},
     "output_type": "execute_result"
    }
   ],
   "source": [
    "df[df['origin'] == 'Asia']['fuel_efficiency_mpg'].max()"
   ]
  },
  {
   "cell_type": "markdown",
   "id": "571152e3",
   "metadata": {},
   "source": [
    "## Q6. Median horsepower before and after imputing mode"
   ]
  },
  {
   "cell_type": "code",
   "execution_count": 9,
   "id": "fda06952",
   "metadata": {
    "execution": {
     "iopub.execute_input": "2025-10-01T22:31:28.478094Z",
     "iopub.status.busy": "2025-10-01T22:31:28.477930Z",
     "iopub.status.idle": "2025-10-01T22:31:28.482761Z",
     "shell.execute_reply": "2025-10-01T22:31:28.482372Z"
    }
   },
   "outputs": [
    {
     "data": {
      "text/plain": [
       "(np.float64(149.0), np.float64(152.0), np.float64(152.0))"
      ]
     },
     "execution_count": 9,
     "metadata": {},
     "output_type": "execute_result"
    }
   ],
   "source": [
    "median_before = df['horsepower'].median()\n",
    "mode_hp = df['horsepower'].mode()[0]\n",
    "median_after = df['horsepower'].fillna(mode_hp).median()\n",
    "median_before, mode_hp, median_after"
   ]
  },
  {
   "cell_type": "markdown",
   "id": "d4a3ce10",
   "metadata": {},
   "source": [
    "## Q7. Sum of `w`"
   ]
  },
  {
   "cell_type": "code",
   "execution_count": 10,
   "id": "a82d7489",
   "metadata": {
    "execution": {
     "iopub.execute_input": "2025-10-01T22:31:28.484209Z",
     "iopub.status.busy": "2025-10-01T22:31:28.484109Z",
     "iopub.status.idle": "2025-10-01T22:31:28.490846Z",
     "shell.execute_reply": "2025-10-01T22:31:28.490483Z"
    }
   },
   "outputs": [
    {
     "data": {
      "text/plain": [
       "np.float64(0.5187709081074016)"
      ]
     },
     "execution_count": 10,
     "metadata": {},
     "output_type": "execute_result"
    }
   ],
   "source": [
    "asia = df[df['origin'] == 'Asia'][['vehicle_weight', 'model_year']].head(7)\n",
    "X = asia.to_numpy()\n",
    "XTX = X.T @ X\n",
    "XTX_inv = np.linalg.inv(XTX)\n",
    "y = np.array([1100, 1300, 800, 900, 1000, 1100, 1200])\n",
    "w = XTX_inv @ X.T @ y\n",
    "w.sum()"
   ]
  }
 ],
 "metadata": {
  "kernelspec": {
   "display_name": ".env_dataeng",
   "language": "python",
   "name": "python3"
  },
  "language_info": {
   "codemirror_mode": {
    "name": "ipython",
    "version": 3
   },
   "file_extension": ".py",
   "mimetype": "text/x-python",
   "name": "python",
   "nbconvert_exporter": "python",
   "pygments_lexer": "ipython3",
   "version": "3.10.12"
  }
 },
 "nbformat": 4,
 "nbformat_minor": 5
}
